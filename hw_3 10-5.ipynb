{
 "cells": [
  {
   "cell_type": "code",
   "execution_count": 1,
   "id": "052d2c8a-1c98-4758-812e-d3708e247737",
   "metadata": {},
   "outputs": [
    {
     "name": "stdout",
     "output_type": "stream",
     "text": [
      "Average Haircut Price: 31.875\n",
      "New prices:[25, 20, 35, 15, 15, 30, 45, 30]\n",
      "The average daily revenue:155.0\n",
      "['bouffant', 'pixie', 'crew', 'bowl']\n"
     ]
    }
   ],
   "source": [
    "hairstyles = [\"bouffant\", \"pixie\", \"dreadlocks\", \"crew\", \"bowl\", \"bob\", \"mohawk\", \"flattop\"]\n",
    "\n",
    "prices = [30, 25, 40, 20, 20, 35, 50, 35]\n",
    "\n",
    "last_week = [2, 3, 5, 8, 4, 4, 6, 2]\n",
    "\n",
    "total_price = 0\n",
    "\n",
    "for price in prices:\n",
    "  total_price += price\n",
    "#Can we do too total_price.append(price)?\n",
    "\n",
    "average_price = total_price / len(prices)\n",
    "\n",
    "print (\"Average Haircut Price: \" + str(average_price))\n",
    "\n",
    "new_prices = [price - 5 for price in prices]\n",
    "print (\"New prices:\" + str(new_prices))\n",
    "\n",
    "total_revenue = 0\n",
    "for i in range(len(hairstyles)):\n",
    " total_revenue+= prices[i] * last_week[i]\n",
    "\n",
    "\n",
    "\n",
    "average_daily_revenue = total_revenue / 7\n",
    "print(\"The average daily revenue:\" + str(average_daily_revenue))\n",
    "\n",
    "cuts_under_30 = [hairstyles[i] for i in range(len(hairstyles)) if new_prices[i] < 30]\n",
    "\n",
    "print(cuts_under_30)"
   ]
  },
  {
   "cell_type": "code",
   "execution_count": null,
   "id": "a734005d-c5e7-4fc0-9f0f-0422fd356a7d",
   "metadata": {},
   "outputs": [],
   "source": []
  }
 ],
 "metadata": {
  "kernelspec": {
   "display_name": "Python 3",
   "language": "python",
   "name": "python3"
  },
  "language_info": {
   "codemirror_mode": {
    "name": "ipython",
    "version": 3
   },
   "file_extension": ".py",
   "mimetype": "text/x-python",
   "name": "python",
   "nbconvert_exporter": "python",
   "pygments_lexer": "ipython3",
   "version": "3.8.8"
  }
 },
 "nbformat": 4,
 "nbformat_minor": 5
}
