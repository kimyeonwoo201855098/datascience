{
 "cells": [
  {
   "cell_type": "code",
   "execution_count": null,
   "id": "fe028072-7126-4d0d-b2f7-fe831623b5b2",
   "metadata": {},
   "outputs": [],
   "source": []
  },
  {
   "cell_type": "code",
   "execution_count": 7,
   "id": "8d5f29c1-0a89-4f7d-8c5f-dd0e48b1acc4",
   "metadata": {},
   "outputs": [
    {
     "name": "stdout",
     "output_type": "stream",
     "text": [
      "Customer One Items:\n",
      "Lovely Loveseat. Tufted polyester blend on wood. 32 inches high x 40 inches wide x 30 inches deep. Red or white.Luxurious Lamp. Glass and iron. 36 inches tall. Brown with cream shade.\n",
      "Customer One Total:\n",
      "333.09119999999996\n"
     ]
    }
   ],
   "source": [
    "#1\n",
    "lovely_loveseat_description = \"Lovely Loveseat. Tufted polyester blend on wood. 32 inches high x 40 inches wide x 30 inches deep. Red or white.\"\n",
    "#2\n",
    "lovely_loveseat_price = 254.00\n",
    "#3\n",
    "stylish_settee_description = \"Stylish Settee. Faux leather on birch. 29.50 inches high x 54.75 inches wide x 28 inches deep. Black.\"\n",
    "#4\n",
    "stylish_settee_price = 180.50\n",
    "#5\n",
    "luxurious_lamp_description = \"Luxurious Lamp. Glass and iron. 36 inches tall. Brown with cream shade.\"\n",
    "#6\n",
    "luxurious_lamp_price = 52.15\n",
    "#7\n",
    "sales_tax = .088\n",
    "#8\n",
    "customer_one_total = 0\n",
    "#9\n",
    "customer_one_itemization = \"\"\n",
    "#10\n",
    "customer_one_total = lovely_loveseat_price\n",
    "#11\n",
    "customer_one_itemization = lovely_loveseat_description\n",
    "#12\n",
    "customer_one_total += luxurious_lamp_price\n",
    "#13\n",
    "customer_one_itemization += luxurious_lamp_description\n",
    "#14\n",
    "customer_one_tax = customer_one_total * sales_tax\n",
    "#15\n",
    "customer_one_total += customer_one_tax\n",
    "#16,17\n",
    "print(\"Customer One Items:\")\n",
    "print(customer_one_itemization)\n",
    "#18,19\n",
    "print(\"Customer One Total:\")\n",
    "print(customer_one_total)"
   ]
  },
  {
   "cell_type": "code",
   "execution_count": null,
   "id": "446310e6-6b2b-4cf5-a076-239e0cc7e7c6",
   "metadata": {},
   "outputs": [],
   "source": []
  },
  {
   "cell_type": "code",
   "execution_count": null,
   "id": "33979ba5-17ee-4bcd-8f9f-c7bddacebab3",
   "metadata": {},
   "outputs": [],
   "source": []
  }
 ],
 "metadata": {
  "kernelspec": {
   "display_name": "Python 3",
   "language": "python",
   "name": "python3"
  },
  "language_info": {
   "codemirror_mode": {
    "name": "ipython",
    "version": 3
   },
   "file_extension": ".py",
   "mimetype": "text/x-python",
   "name": "python",
   "nbconvert_exporter": "python",
   "pygments_lexer": "ipython3",
   "version": "3.8.8"
  }
 },
 "nbformat": 4,
 "nbformat_minor": 5
}
