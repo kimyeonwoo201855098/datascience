{
 "cells": [
  {
   "cell_type": "code",
   "execution_count": 40,
   "id": "c18d4ab5-c622-4377-9b83-5766d4808e56",
   "metadata": {},
   "outputs": [
    {
     "name": "stdout",
     "output_type": "stream",
     "text": [
      "[['Physics', 98], ['Calculus', 97], ['Poetry', 85], ['History', 88]]\n"
     ]
    }
   ],
   "source": [
    "subjects = [\"physics\", \"calculus\", \"poetry\", \"history\"]\n",
    "grades = [98, 97, 85, 88]\n",
    "gradebook = [[\"Physics\", 98], [\"Calculus\", 97], [\"Poetry\", 85], [\"History\", 88]]\n",
    "print(gradebook)"
   ]
  },
  {
   "cell_type": "code",
   "execution_count": 41,
   "id": "18a3c202-58de-4bfe-8519-5890dc48593c",
   "metadata": {},
   "outputs": [
    {
     "name": "stdout",
     "output_type": "stream",
     "text": [
      "[['Physics', 98], ['Calculus', 97], ['Poetry', 85], ['History', 88], ['Computer Science', 100], ['Visual Arts', 93]]\n"
     ]
    }
   ],
   "source": [
    "# Your code below: \n",
    "subjects = [\"physics\", \"calculus\", \"poetry\", \"history\"]\n",
    "grades = [98, 97, 85, 88]\n",
    "gradebook = [[\"Physics\", 98], [\"Calculus\", 97], [\"Poetry\", 85], [\"History\", 88]]\n",
    "# print(gradebook)\n",
    "\n",
    "gradebook.append([\"Computer Science\", 100])\n",
    "gradebook.append([\"Visual Arts\", 93])\n",
    "print(gradebook)"
   ]
  },
  {
   "cell_type": "code",
   "execution_count": 42,
   "id": "8d210ac4-f8f8-4919-a97a-d63dc2f5dbe1",
   "metadata": {},
   "outputs": [
    {
     "name": "stdout",
     "output_type": "stream",
     "text": [
      "[['Physics', 98], ['Calculus', 97], ['History', 88], ['Computer Science', 100], ['Visual Arts', 98], ['Poetry', 'Pass']]\n"
     ]
    }
   ],
   "source": [
    "# Your code below: \n",
    "subjects = [\"physics\", \"calculus\", \"poetry\", \"history\"]\n",
    "grades = [98, 97, 85, 88]\n",
    "gradebook = [[\"Physics\", 98], [\"Calculus\", 97], [\"Poetry\", 85], [\"History\", 88]]\n",
    "\n",
    "gradebook.append([\"Computer Science\", 100])\n",
    "gradebook.append([\"Visual Arts\", 93])\n",
    "\n",
    "gradebook[-1][-1] = 98\n",
    "\n",
    "gradebook.remove([\"Poetry\", 85])\n",
    "\n",
    "gradebook.append([\"Poetry\", \"Pass\"])\n",
    "print(gradebook)"
   ]
  },
  {
   "cell_type": "code",
   "execution_count": 44,
   "id": "31a4d2c0-f7e6-4374-a813-2421daa268a9",
   "metadata": {},
   "outputs": [
    {
     "name": "stdout",
     "output_type": "stream",
     "text": [
      "[['politics', 80], ['latin', 96], ['dance', 97], ['architecture', 65], ['Physics', 98], ['Calculus', 97], ['History', 88], ['Computer Science', 100], ['Visual Arts', 98], ['Poetry', 'Pass']]\n"
     ]
    }
   ],
   "source": [
    " \n",
    "subjects = [\"physics\", \"calculus\", \"poetry\", \"history\"]\n",
    "grades = [98, 97, 85, 88]\n",
    "gradebook = [[\"Physics\", 98], [\"Calculus\", 97], [\"Poetry\", 85], [\"History\", 88]]\n",
    "\n",
    "gradebook.append([\"Computer Science\", 100])\n",
    "gradebook.append([\"Visual Arts\", 93])\n",
    "\n",
    "gradebook[-1][-1] = 98\n",
    "\n",
    "gradebook.remove([\"Poetry\", 85])\n",
    "\n",
    "gradebook.append([\"Poetry\", \"Pass\"])\n",
    "\n",
    "last_semester_gradebook = [[\"politics\", 80], [\"latin\", 96], [\"dance\", 97], [\"architecture\", 65]]\n",
    "\n",
    "full_gradebook = last_semester_gradebook + gradebook\n",
    "print(full_gradebook)"
   ]
  },
  {
   "cell_type": "code",
   "execution_count": null,
   "id": "1b8aed59-0c7e-4259-b855-53934737b3db",
   "metadata": {},
   "outputs": [],
   "source": []
  }
 ],
 "metadata": {
  "kernelspec": {
   "display_name": "Python 3",
   "language": "python",
   "name": "python3"
  },
  "language_info": {
   "codemirror_mode": {
    "name": "ipython",
    "version": 3
   },
   "file_extension": ".py",
   "mimetype": "text/x-python",
   "name": "python",
   "nbconvert_exporter": "python",
   "pygments_lexer": "ipython3",
   "version": "3.8.8"
  }
 },
 "nbformat": 4,
 "nbformat_minor": 5
}
